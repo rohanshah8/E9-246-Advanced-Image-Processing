{
  "nbformat": 4,
  "nbformat_minor": 0,
  "metadata": {
    "colab": {
      "name": " Image Classification.ipynb",
      "provenance": [],
      "collapsed_sections": []
    },
    "kernelspec": {
      "name": "python3",
      "display_name": "Python 3"
    },
    "language_info": {
      "name": "python"
    }
  },
  "cells": [
    {
      "cell_type": "markdown",
      "source": [
        "# **PART-1**\n",
        "Extracting feature from pretrained model and apply KNN classifier"
      ],
      "metadata": {
        "id": "xoP5zHWNFP1a"
      }
    },
    {
      "cell_type": "code",
      "metadata": {
        "id": "symzuOfJJSR8",
        "colab": {
          "base_uri": "https://localhost:8080/"
        },
        "outputId": "bcc792bf-43f2-4b5e-d7d2-8c09964592e4"
      },
      "source": [
        "from keras.preprocessing import image\n",
        "from keras.applications.vgg16 import VGG16\n",
        "from keras.applications.vgg16 import preprocess_input\n",
        "import numpy as np\n",
        "import matplotlib.pyplot as plt\n",
        "import os\n",
        "from tqdm import tqdm\n",
        "from sklearn.metrics import confusion_matrix\n",
        "\n",
        "path='/content/drive/MyDrive/AIP/Assignment-1'\n",
        "\n",
        "model = VGG16(weights='imagenet', include_top=False)\n",
        "#model.summary()"
      ],
      "execution_count": null,
      "outputs": [
        {
          "output_type": "stream",
          "name": "stdout",
          "text": [
            "Downloading data from https://storage.googleapis.com/tensorflow/keras-applications/vgg16/vgg16_weights_tf_dim_ordering_tf_kernels_notop.h5\n",
            "58892288/58889256 [==============================] - 0s 0us/step\n",
            "58900480/58889256 [==============================] - 0s 0us/step\n"
          ]
        }
      ]
    },
    {
      "cell_type": "code",
      "metadata": {
        "id": "RtkkJq_aLkh9"
      },
      "source": [
        "subdir=os.listdir(path+'/train_data')\n",
        "train_subdir=[x for x in subdir if 'train' in x]\n",
        "test_subdir=[x.replace('train','test') for x in train_subdir]"
      ],
      "execution_count": null,
      "outputs": []
    },
    {
      "cell_type": "code",
      "metadata": {
        "id": "Xga62xonTbr6"
      },
      "source": [
        "\n",
        "#American_Goldfinch_train = class 0 (train data=40 , test data = 20)\n",
        "#Red_headed_Woodpecker_train = class 1 (train data=40 , test data = 20)\n",
        "#Marigold_train = class 2  (train data=40 , test data = 20)\n",
        "#anthuriam_train = class 3 (train data=40 , test data = 20)\n",
        "#frangipani_train = class 4 (train data=40 , test data = 20)\n",
        "#Albatross_train = class 5 (train data=40 , test data = 20)\n",
        "\n",
        "\n",
        "\n",
        "#train and test data stacked in this order in array"
      ],
      "execution_count": null,
      "outputs": []
    },
    {
      "cell_type": "markdown",
      "metadata": {
        "id": "PIpaoxDdbhEr"
      },
      "source": [
        "**Feature Extraction for Train Data**"
      ]
    },
    {
      "cell_type": "code",
      "metadata": {
        "colab": {
          "base_uri": "https://localhost:8080/"
        },
        "id": "ZJhyu7i2KIWs",
        "outputId": "6912933f-7c6f-4098-a005-0e2508f34ae5"
      },
      "source": [
        "vgg16_feature_list_train = []\n",
        "y_train=[]\n",
        "#loading train images from folders and find features using model\n",
        "for idx, dirname in tqdm(enumerate(train_subdir)):\n",
        "    filenames=os.listdir(path+'/train_data/'+dirname)\n",
        "    for i, fname in enumerate(filenames):\n",
        "        if('.jpg' not in fname):\n",
        "          continue\n",
        "        img_path=path+'/train_data/'+dirname+'/'+fname\n",
        "        img = image.load_img(img_path, target_size=(224, 224))\n",
        "        img_data = image.img_to_array(img)\n",
        "        img_data = np.expand_dims(img_data, axis=0)\n",
        "        img_data = preprocess_input(img_data)\n",
        "\n",
        "        vgg16_feature = model.predict(img_data)\n",
        "        vgg16_feature_np = np.array(vgg16_feature)\n",
        "        vgg16_feature_list_train.append(vgg16_feature_np.flatten())\n",
        "        y_train.append(idx)"
      ],
      "execution_count": null,
      "outputs": [
        {
          "output_type": "stream",
          "name": "stderr",
          "text": [
            "6it [03:06, 31.14s/it]\n"
          ]
        }
      ]
    },
    {
      "cell_type": "markdown",
      "metadata": {
        "id": "OnRIf5Fwbmpi"
      },
      "source": [
        "**Feature Extraction for Test Data**"
      ]
    },
    {
      "cell_type": "code",
      "metadata": {
        "colab": {
          "base_uri": "https://localhost:8080/"
        },
        "id": "r0u1cFu5VpsV",
        "outputId": "6f2e47e2-db36-463b-87ac-d830896b2c7c"
      },
      "source": [
        "vgg16_feature_list_test = []\n",
        "y_test=[]\n",
        "#loading test images from folders and find features using model\n",
        "for idx, dirname in tqdm(enumerate(test_subdir)):\n",
        "    filenames=os.listdir(path+'/test_data/'+dirname)\n",
        "    for i, fname in enumerate(filenames):\n",
        "        if('.jpg' not in fname):\n",
        "          continue\n",
        "        img_path=path+'/test_data/'+dirname+'/'+fname\n",
        "        img = image.load_img(img_path, target_size=(224, 224))\n",
        "        img_data = image.img_to_array(img)\n",
        "        img_data = np.expand_dims(img_data, axis=0)\n",
        "        img_data = preprocess_input(img_data)\n",
        "\n",
        "        vgg16_feature = model.predict(img_data)\n",
        "        vgg16_feature_np = np.array(vgg16_feature)\n",
        "        vgg16_feature_list_test.append(vgg16_feature_np.flatten())\n",
        "        y_test.append(idx)\n",
        "    print(dirname)"
      ],
      "execution_count": null,
      "outputs": [
        {
          "output_type": "stream",
          "name": "stderr",
          "text": [
            "1it [00:15, 15.56s/it]"
          ]
        },
        {
          "output_type": "stream",
          "name": "stdout",
          "text": [
            "American_Goldfinch_test\n"
          ]
        },
        {
          "output_type": "stream",
          "name": "stderr",
          "text": [
            "\r2it [00:32, 16.42s/it]"
          ]
        },
        {
          "output_type": "stream",
          "name": "stdout",
          "text": [
            "Red_headed_Woodpecker_test\n"
          ]
        },
        {
          "output_type": "stream",
          "name": "stderr",
          "text": [
            "\r3it [00:48, 16.37s/it]"
          ]
        },
        {
          "output_type": "stream",
          "name": "stdout",
          "text": [
            "Marigold_test\n"
          ]
        },
        {
          "output_type": "stream",
          "name": "stderr",
          "text": [
            "\r4it [01:05, 16.28s/it]"
          ]
        },
        {
          "output_type": "stream",
          "name": "stdout",
          "text": [
            "anthuriam_test\n"
          ]
        },
        {
          "output_type": "stream",
          "name": "stderr",
          "text": [
            "\r5it [01:20, 16.12s/it]"
          ]
        },
        {
          "output_type": "stream",
          "name": "stdout",
          "text": [
            "frangipani_test\n"
          ]
        },
        {
          "output_type": "stream",
          "name": "stderr",
          "text": [
            "6it [01:36, 16.16s/it]"
          ]
        },
        {
          "output_type": "stream",
          "name": "stdout",
          "text": [
            "Albatross_test\n"
          ]
        },
        {
          "output_type": "stream",
          "name": "stderr",
          "text": [
            "\n"
          ]
        }
      ]
    },
    {
      "cell_type": "code",
      "metadata": {
        "id": "9Cat2YtmUmiM"
      },
      "source": [
        "#Convert to numpy array\n",
        "vgg16_feature_list_np_train = np.array(vgg16_feature_list_train)\n",
        "vgg16_feature_list_np_test = np.array(vgg16_feature_list_test)\n",
        "y_train=np.array(y_train)\n",
        "y_test=np.array(y_test)"
      ],
      "execution_count": null,
      "outputs": []
    },
    {
      "cell_type": "code",
      "source": [
        "y_test.shape"
      ],
      "metadata": {
        "colab": {
          "base_uri": "https://localhost:8080/"
        },
        "id": "3lt_q24KOwU2",
        "outputId": "47bd96df-97bc-46d8-fdde-19eb19b5a07a"
      },
      "execution_count": null,
      "outputs": [
        {
          "output_type": "execute_result",
          "data": {
            "text/plain": [
              "(120,)"
            ]
          },
          "metadata": {},
          "execution_count": 11
        }
      ]
    },
    {
      "cell_type": "markdown",
      "metadata": {
        "id": "TwwuHQjvbV1g"
      },
      "source": [
        "**KNN**"
      ]
    },
    {
      "cell_type": "code",
      "metadata": {
        "id": "w3cV27cIxH2F"
      },
      "source": [
        "# Locate the K-most nearest neighbors\n",
        "def Knn(train, test_row, num_neighbors):\n",
        "  distances = list()\n",
        "  for index,train_row in enumerate(train):\n",
        "    dist = np.sqrt(np.sum(np.square(np.subtract(test_row,train_row))))\n",
        "    distances.append((index, dist))\n",
        "  distances.sort(key=lambda tup: tup[1])\n",
        "  neighbors = []\n",
        "  for i in range(num_neighbors):\n",
        "    neighbors.append(distances[i][0])\n",
        "  return neighbors\n",
        "\n",
        "# Make a class prediction with KNN\n",
        "def predict_classification(train, test_row, num_neighbors,y_train):\n",
        "  neighbors = Knn(train, test_row, num_neighbors)\n",
        "  output_values = [y_train[index] for index in neighbors]\n",
        "  prediction = max(set(output_values), key=output_values.count)\n",
        "  return prediction\n",
        "\n",
        "#predict for all test data\n",
        "y_pred=np.copy(y_test)\n",
        "for i in range(len(y_test)):\n",
        "  y_pred[i]=predict_classification(vgg16_feature_list_np_train,vgg16_feature_list_np_test[i].T,4,y_train)"
      ],
      "execution_count": null,
      "outputs": []
    },
    {
      "cell_type": "code",
      "source": [
        "train_subdir,test_subdir"
      ],
      "metadata": {
        "colab": {
          "base_uri": "https://localhost:8080/"
        },
        "id": "y8BPhi5hSx4h",
        "outputId": "2d5ccdac-fff4-4d05-9bd4-1424ef776397"
      },
      "execution_count": null,
      "outputs": [
        {
          "output_type": "execute_result",
          "data": {
            "text/plain": [
              "(['American_Goldfinch_train',\n",
              "  'Red_headed_Woodpecker_train',\n",
              "  'Marigold_train',\n",
              "  'anthuriam_train',\n",
              "  'frangipani_train',\n",
              "  'Albatross_train'],\n",
              " ['American_Goldfinch_test',\n",
              "  'Red_headed_Woodpecker_test',\n",
              "  'Marigold_test',\n",
              "  'anthuriam_test',\n",
              "  'frangipani_test',\n",
              "  'Albatross_test'])"
            ]
          },
          "metadata": {},
          "execution_count": 13
        }
      ]
    },
    {
      "cell_type": "code",
      "metadata": {
        "colab": {
          "base_uri": "https://localhost:8080/"
        },
        "id": "mh4cjexzSfPs",
        "outputId": "0359ba6e-e33d-4fcf-fb2f-f0e18564273c"
      },
      "source": [
        "print(' Accuracy Of Model : ',np.sum((y_pred-y_test)==0)/len(y_test))\n",
        "i=0\n",
        "print(' Accuracy in Class 0 (American_Goldfinch_train) : ',np.sum((y_pred[i:i+20]-y_test[i:i+20])==0)/20)\n",
        "i=i+20\n",
        "print(' Accuracy in Class 1 (Red_headed_Woodpecker_train) : ',np.sum((y_pred[i:i+20]-y_test[i:i+20])==0)/20)\n",
        "i=i+20\n",
        "print(' Accuracy in Class 2 (Marigold_train) : ',np.sum((y_pred[i:i+20]-y_test[i:i+20])==0)/20)\n",
        "i=i+20\n",
        "print(' Accuracy in Class 3 (anthuriam_train) : ',np.sum((y_pred[i:i+20]-y_test[i:i+20])==0)/20)\n",
        "i=i+20\n",
        "print(' Accuracy in Class 4 (frangipani_train) : ',np.sum((y_pred[i:i+20]-y_test[i:i+20])==0)/20)\n",
        "i=i+20\n",
        "print(' Accuracy in Class 5 (Albatross_train) : ',np.sum((y_pred[i:i+20]-y_test[i:i+20])==0)/20)"
      ],
      "execution_count": null,
      "outputs": [
        {
          "output_type": "stream",
          "name": "stdout",
          "text": [
            " Accuracy Of Model :  0.7916666666666666\n",
            " Accuracy in Class 0 (American_Goldfinch_train) :  0.9\n",
            " Accuracy in Class 1 (Red_headed_Woodpecker_train) :  0.75\n",
            " Accuracy in Class 2 (Marigold_train) :  0.9\n",
            " Accuracy in Class 3 (anthuriam_train) :  0.25\n",
            " Accuracy in Class 4 (frangipani_train) :  1.0\n",
            " Accuracy in Class 5 (Albatross_train) :  0.95\n"
          ]
        }
      ]
    },
    {
      "cell_type": "code",
      "source": [
        "y_pred[60:80]"
      ],
      "metadata": {
        "colab": {
          "base_uri": "https://localhost:8080/"
        },
        "id": "nUoIMJkPUO1R",
        "outputId": "1639396f-8043-41ce-9d27-73b71b6d7ae4"
      },
      "execution_count": null,
      "outputs": [
        {
          "output_type": "execute_result",
          "data": {
            "text/plain": [
              "array([3, 4, 4, 4, 3, 4, 4, 4, 4, 4, 4, 4, 4, 4, 3, 4, 3, 3, 4, 4])"
            ]
          },
          "metadata": {},
          "execution_count": 15
        }
      ]
    },
    {
      "cell_type": "code",
      "source": [
        "cm=confusion_matrix(y_test,y_pred)\n",
        "cm"
      ],
      "metadata": {
        "colab": {
          "base_uri": "https://localhost:8080/",
          "height": 182
        },
        "id": "iDzW_NwWTGpV",
        "outputId": "8ac81a73-4a9c-4212-add1-426765e88864"
      },
      "execution_count": null,
      "outputs": [
        {
          "output_type": "error",
          "ename": "NameError",
          "evalue": "ignored",
          "traceback": [
            "\u001b[0;31m---------------------------------------------------------------------------\u001b[0m",
            "\u001b[0;31mNameError\u001b[0m                                 Traceback (most recent call last)",
            "\u001b[0;32m<ipython-input-1-19efd28895d0>\u001b[0m in \u001b[0;36m<module>\u001b[0;34m()\u001b[0m\n\u001b[0;32m----> 1\u001b[0;31m \u001b[0mcm\u001b[0m\u001b[0;34m=\u001b[0m\u001b[0mconfusion_matrix\u001b[0m\u001b[0;34m(\u001b[0m\u001b[0my_test\u001b[0m\u001b[0;34m,\u001b[0m\u001b[0my_pred\u001b[0m\u001b[0;34m)\u001b[0m\u001b[0;34m\u001b[0m\u001b[0;34m\u001b[0m\u001b[0m\n\u001b[0m\u001b[1;32m      2\u001b[0m \u001b[0mcm\u001b[0m\u001b[0;34m\u001b[0m\u001b[0;34m\u001b[0m\u001b[0m\n",
            "\u001b[0;31mNameError\u001b[0m: name 'confusion_matrix' is not defined"
          ]
        }
      ]
    },
    {
      "cell_type": "code",
      "source": [
        "cm=np.array([[18,  0,  0,  0,  2,  0],\n",
        "       [ 0, 15,  0,  1,  1,  3],\n",
        "       [ 0,  0, 18,  0,  2,  0],\n",
        "       [ 0,  0,  0,  5, 15,  0],\n",
        "       [ 0,  0,  0,  0, 20,  0],\n",
        "       [ 0,  0,  0,  0,  1, 19]])\n"
      ],
      "metadata": {
        "id": "73e8VQ8n6JWf"
      },
      "execution_count": null,
      "outputs": []
    },
    {
      "cell_type": "code",
      "source": [
        "from sklearn.metrics import confusion_matrix, ConfusionMatrixDisplay\n",
        "p=ConfusionMatrixDisplay(confusion_matrix=cm,display_labels=[0,1,2,3,4,5])\n",
        "p.plot()\n",
        "plt.show()"
      ],
      "metadata": {
        "colab": {
          "base_uri": "https://localhost:8080/",
          "height": 283
        },
        "id": "7aXIWH6v5_0P",
        "outputId": "cd812217-9fd6-458e-a86c-87b2abd5b949"
      },
      "execution_count": null,
      "outputs": [
        {
          "output_type": "display_data",
          "data": {
            "image/png": "[encoded data removed]",
            "text/plain": [
              "<Figure size 432x288 with 2 Axes>"
            ]
          },
          "metadata": {
            "needs_background": "light"
          }
        }
      ]
    }
  ]
}